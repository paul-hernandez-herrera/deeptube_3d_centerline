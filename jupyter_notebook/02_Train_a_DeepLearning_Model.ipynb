{
 "cells": [
  {
   "cell_type": "markdown",
   "id": "d983d8b9",
   "metadata": {},
   "source": [
    "# About the notebook\n",
    "This notebook allows to train a 3D deep learning UNET architecture for the task of segmenting structures from a input image.\n",
    "\n",
    "This code requires to provide the path of the folder containing the input images and the path of the folder containing the target (ground truth) images."
   ]
  },
  {
   "cell_type": "markdown",
   "id": "415aac98",
   "metadata": {},
   "source": [
    "# 01 - Loading dependencies\n",
    "Importing the required code and libraries to run this notebook"
   ]
  },
  {
   "cell_type": "code",
   "execution_count": 1,
   "id": "00e4a4a9",
   "metadata": {},
   "outputs": [
    {
     "name": "stdout",
     "output_type": "stream",
     "text": [
      "Updating working directory\n",
      "C:\\Users\\jalip\\Documentos\\github\\deeptube_3dcenterline\n"
     ]
    }
   ],
   "source": [
    "import os\n",
    "if 'workbookDir' not in globals():\n",
    "    print('Updating working directory')\n",
    "    workbookDir = os.path.dirname(os.getcwd())\n",
    "    os.chdir(workbookDir)\n",
    "print(os.getcwd())\n",
    "\n",
    "from deeptube_3dcenterline.trainingset_datasetLoader import trainingset_dataset_3D as train_loader_3d\n",
    "from deeptube_3dcenterline.parameters_widget import set_parameters_UNET_training\n",
    "\n",
    "from torch.utils.data import DataLoader\n",
    "\n",
    "%load_ext autoreload\n",
    "%autoreload 2"
   ]
  },
  {
   "cell_type": "markdown",
   "id": "33824320",
   "metadata": {},
   "source": [
    "# 02 - Setting parameters\n",
    "The following line of code allows you to set the parameters for training the deep learning UNET model\n",
    "\n",
    "## Required parameters\n",
    "**Folder path input images**: the folder containing the input images \n",
    "\n",
    "**Folder path target mask**: the folder containing the traces center-line for each input image"
   ]
  },
  {
   "cell_type": "code",
   "execution_count": 2,
   "id": "79fc4846",
   "metadata": {},
   "outputs": [
    {
     "name": "stdout",
     "output_type": "stream",
     "text": [
      "------------------------------\n",
      "\u001b[47m\u001b[1mREQUIRED PARAMETERS\u001b[0m\n",
      "------------------------------\n"
     ]
    },
    {
     "data": {
      "application/vnd.jupyter.widget-view+json": {
       "model_id": "3b921015540245029692a83f3f3c01d5",
       "version_major": 2,
       "version_minor": 0
      },
      "text/plain": [
       "HBox(children=(Label(value='Folder path input images:', layout=Layout(width='200px')), Text(value='', layout=L…"
      ]
     },
     "metadata": {},
     "output_type": "display_data"
    },
    {
     "data": {
      "application/vnd.jupyter.widget-view+json": {
       "model_id": "37d5aee0a60542abaeb08493e7badba5",
       "version_major": 2,
       "version_minor": 0
      },
      "text/plain": [
       "HBox(children=(Label(value='Folder path target mask:', layout=Layout(width='200px')), Text(value='', layout=La…"
      ]
     },
     "metadata": {},
     "output_type": "display_data"
    }
   ],
   "source": [
    "parameters = set_parameters_UNET_training()"
   ]
  },
  {
   "cell_type": "markdown",
   "id": "427da359",
   "metadata": {},
   "source": [
    "# 03 - Display samples of training image and target mask\n",
    "This sections allows to visualize some samples from the training set and associated target mask"
   ]
  },
  {
   "cell_type": "code",
   "execution_count": 3,
   "id": "ce652ff9",
   "metadata": {},
   "outputs": [],
   "source": [
    "training_data = train_loader_3d(parameters['folder_input_w'].value, parameters['folder_target_w'].value)"
   ]
  },
  {
   "cell_type": "code",
   "execution_count": null,
   "id": "7b16ed13",
   "metadata": {},
   "outputs": [],
   "source": []
  }
 ],
 "metadata": {
  "kernelspec": {
   "display_name": "Python 3 (ipykernel)",
   "language": "python",
   "name": "python3"
  },
  "language_info": {
   "codemirror_mode": {
    "name": "ipython",
    "version": 3
   },
   "file_extension": ".py",
   "mimetype": "text/x-python",
   "name": "python",
   "nbconvert_exporter": "python",
   "pygments_lexer": "ipython3",
   "version": "3.9.13"
  }
 },
 "nbformat": 4,
 "nbformat_minor": 5
}
