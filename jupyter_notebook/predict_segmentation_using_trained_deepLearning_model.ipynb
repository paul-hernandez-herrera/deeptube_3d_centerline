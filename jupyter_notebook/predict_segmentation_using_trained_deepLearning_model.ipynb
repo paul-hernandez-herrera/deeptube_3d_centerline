{
 "cells": [
  {
   "cell_type": "markdown",
   "id": "0c814820",
   "metadata": {},
   "source": [
    "# About the notebook\n",
    "The purpose of this Jupyter Notebook is to use a pre-trained deep learning model to generate segmentation predictions for a given input image.  \n"
   ]
  },
  {
   "cell_type": "markdown",
   "id": "2d9fa4ea",
   "metadata": {},
   "source": [
    "# 01 - Loading dependencies\n",
    "In this notebook, before running any code, there are several libraries and modules that need to be imported to ensure that the notebook runs smoothly. These libraries and modules contain pre-written code that performs specific tasks, such as reading and processing images, defining the UNET model, and training the model."
   ]
  },
  {
   "cell_type": "code",
   "execution_count": 1,
   "id": "d18617ce",
   "metadata": {},
   "outputs": [
    {
     "name": "stdout",
     "output_type": "stream",
     "text": [
      "Updating working directory\n",
      "C:\\Users\\jalip\\Documentos\\github\\deeptube_3d_centerline\n"
     ]
    }
   ],
   "source": [
    "import os\n",
    "if 'workbookDir' not in globals():\n",
    "    print('Updating working directory')\n",
    "    workbookDir = os.path.dirname(os.getcwd())\n",
    "    os.chdir(workbookDir)\n",
    "print(os.getcwd())\n",
    "import torch\n",
    "\n",
    "from deeptube_3dcenterline.predict import PredictSegmentationInteractive\n",
    "from deeptube_3dcenterline.util.show_image import show_images_side_by_side_interactive\n",
    "\n",
    "#allow reloading the functions updates\n",
    "%load_ext autoreload\n",
    "%autoreload 2"
   ]
  },
  {
   "cell_type": "markdown",
   "id": "91655c7c",
   "metadata": {},
   "source": [
    "# 02 - Setting required parameters\n",
    "In this section, users can specify the necessary parameters to predict the segmentation mask for a given input image. The following parameters are required:\n",
    "\n",
    "**Model path**: The path to the trained model that will be used for segmentation prediction.\n",
    "\n",
    "**Input path**: The path to the folder containing the input images, or the path to a single 'tif' image.\n",
    "\n",
    "**Output path (Optional)**: The path where the output of the network will be saved. If you do not provide an output path, the algorithm will automatically create a folder named 'output' in the same folder as the input images, and save the predictions there.\n",
    "\n",
    "**Device**: The device that will be used to perform the operations."
   ]
  },
  {
   "cell_type": "code",
   "execution_count": 2,
   "id": "0d63c199",
   "metadata": {
    "scrolled": true
   },
   "outputs": [
    {
     "data": {
      "application/vnd.jupyter.widget-view+json": {
       "model_id": "f0d73f854c0a42c5ab50f2448edad7a4",
       "version_major": 2,
       "version_minor": 0
      },
      "text/plain": [
       "Text(value='', description='Model path:', layout=Layout(flex='1 1 auto', width='auto'), placeholder='Insert pa…"
      ]
     },
     "metadata": {},
     "output_type": "display_data"
    },
    {
     "data": {
      "application/vnd.jupyter.widget-view+json": {
       "model_id": "0a4fc25fe8c041d790209e4ee5f4c137",
       "version_major": 2,
       "version_minor": 0
      },
      "text/plain": [
       "Text(value='', description='Input path:', layout=Layout(flex='1 1 auto', width='auto'), placeholder='Insert pa…"
      ]
     },
     "metadata": {},
     "output_type": "display_data"
    },
    {
     "data": {
      "application/vnd.jupyter.widget-view+json": {
       "model_id": "7ba590346945498e8dd1dcb722a78d8c",
       "version_major": 2,
       "version_minor": 0
      },
      "text/plain": [
       "Text(value='', description='Output path:', layout=Layout(flex='1 1 auto', width='auto'), placeholder='Insert p…"
      ]
     },
     "metadata": {},
     "output_type": "display_data"
    },
    {
     "data": {
      "application/vnd.jupyter.widget-view+json": {
       "model_id": "938001bc436146059fbd804ef68257b6",
       "version_major": 2,
       "version_minor": 0
      },
      "text/plain": [
       "Dropdown(description='Device: ', options=(('NVIDIA GeForce GTX 1650', 'cuda:0'), ('CPU', 'cpu')), style=Descri…"
      ]
     },
     "metadata": {},
     "output_type": "display_data"
    }
   ],
   "source": [
    "predict_interactive = PredictSegmentationInteractive()"
   ]
  },
  {
   "cell_type": "markdown",
   "id": "c1bf4f4d",
   "metadata": {},
   "source": [
    "# 03 - Do the prediction\n",
    "This line of code allows you to predict the images using the trained deep learning model."
   ]
  },
  {
   "cell_type": "code",
   "execution_count": null,
   "id": "316bbf4d",
   "metadata": {
    "scrolled": true
   },
   "outputs": [
    {
     "name": "stdout",
     "output_type": "stream",
     "text": [
      "C:\\Users\\jalip\\Documentos\\Proyectos\\Sperm\\campo_claro_test\\2017_11_09_HIGH_VISCOCITY_DONE\\2017_11_09_HIGH_VISCOCITY_DONE\\Exp13_stacks\\output\\Exp13_stacks_TP0001_DC_prob.tif\n",
      "C:\\Users\\jalip\\Documentos\\Proyectos\\Sperm\\campo_claro_test\\2017_11_09_HIGH_VISCOCITY_DONE\\2017_11_09_HIGH_VISCOCITY_DONE\\Exp13_stacks\\output\\Exp13_stacks_TP0002_DC_prob.tif\n",
      "C:\\Users\\jalip\\Documentos\\Proyectos\\Sperm\\campo_claro_test\\2017_11_09_HIGH_VISCOCITY_DONE\\2017_11_09_HIGH_VISCOCITY_DONE\\Exp13_stacks\\output\\Exp13_stacks_TP0003_DC_prob.tif\n",
      "C:\\Users\\jalip\\Documentos\\Proyectos\\Sperm\\campo_claro_test\\2017_11_09_HIGH_VISCOCITY_DONE\\2017_11_09_HIGH_VISCOCITY_DONE\\Exp13_stacks\\output\\Exp13_stacks_TP0004_DC_prob.tif\n",
      "C:\\Users\\jalip\\Documentos\\Proyectos\\Sperm\\campo_claro_test\\2017_11_09_HIGH_VISCOCITY_DONE\\2017_11_09_HIGH_VISCOCITY_DONE\\Exp13_stacks\\output\\Exp13_stacks_TP0005_DC_prob.tif\n",
      "C:\\Users\\jalip\\Documentos\\Proyectos\\Sperm\\campo_claro_test\\2017_11_09_HIGH_VISCOCITY_DONE\\2017_11_09_HIGH_VISCOCITY_DONE\\Exp13_stacks\\output\\Exp13_stacks_TP0006_DC_prob.tif\n",
      "C:\\Users\\jalip\\Documentos\\Proyectos\\Sperm\\campo_claro_test\\2017_11_09_HIGH_VISCOCITY_DONE\\2017_11_09_HIGH_VISCOCITY_DONE\\Exp13_stacks\\output\\Exp13_stacks_TP0007_DC_prob.tif\n",
      "C:\\Users\\jalip\\Documentos\\Proyectos\\Sperm\\campo_claro_test\\2017_11_09_HIGH_VISCOCITY_DONE\\2017_11_09_HIGH_VISCOCITY_DONE\\Exp13_stacks\\output\\Exp13_stacks_TP0008_DC_prob.tif\n",
      "C:\\Users\\jalip\\Documentos\\Proyectos\\Sperm\\campo_claro_test\\2017_11_09_HIGH_VISCOCITY_DONE\\2017_11_09_HIGH_VISCOCITY_DONE\\Exp13_stacks\\output\\Exp13_stacks_TP0009_DC_prob.tif\n",
      "C:\\Users\\jalip\\Documentos\\Proyectos\\Sperm\\campo_claro_test\\2017_11_09_HIGH_VISCOCITY_DONE\\2017_11_09_HIGH_VISCOCITY_DONE\\Exp13_stacks\\output\\Exp13_stacks_TP0010_DC_prob.tif\n",
      "C:\\Users\\jalip\\Documentos\\Proyectos\\Sperm\\campo_claro_test\\2017_11_09_HIGH_VISCOCITY_DONE\\2017_11_09_HIGH_VISCOCITY_DONE\\Exp13_stacks\\output\\Exp13_stacks_TP0011_DC_prob.tif\n",
      "C:\\Users\\jalip\\Documentos\\Proyectos\\Sperm\\campo_claro_test\\2017_11_09_HIGH_VISCOCITY_DONE\\2017_11_09_HIGH_VISCOCITY_DONE\\Exp13_stacks\\output\\Exp13_stacks_TP0012_DC_prob.tif\n",
      "C:\\Users\\jalip\\Documentos\\Proyectos\\Sperm\\campo_claro_test\\2017_11_09_HIGH_VISCOCITY_DONE\\2017_11_09_HIGH_VISCOCITY_DONE\\Exp13_stacks\\output\\Exp13_stacks_TP0013_DC_prob.tif\n",
      "C:\\Users\\jalip\\Documentos\\Proyectos\\Sperm\\campo_claro_test\\2017_11_09_HIGH_VISCOCITY_DONE\\2017_11_09_HIGH_VISCOCITY_DONE\\Exp13_stacks\\output\\Exp13_stacks_TP0014_DC_prob.tif\n",
      "C:\\Users\\jalip\\Documentos\\Proyectos\\Sperm\\campo_claro_test\\2017_11_09_HIGH_VISCOCITY_DONE\\2017_11_09_HIGH_VISCOCITY_DONE\\Exp13_stacks\\output\\Exp13_stacks_TP0015_DC_prob.tif\n",
      "C:\\Users\\jalip\\Documentos\\Proyectos\\Sperm\\campo_claro_test\\2017_11_09_HIGH_VISCOCITY_DONE\\2017_11_09_HIGH_VISCOCITY_DONE\\Exp13_stacks\\output\\Exp13_stacks_TP0016_DC_prob.tif\n",
      "C:\\Users\\jalip\\Documentos\\Proyectos\\Sperm\\campo_claro_test\\2017_11_09_HIGH_VISCOCITY_DONE\\2017_11_09_HIGH_VISCOCITY_DONE\\Exp13_stacks\\output\\Exp13_stacks_TP0017_DC_prob.tif\n",
      "C:\\Users\\jalip\\Documentos\\Proyectos\\Sperm\\campo_claro_test\\2017_11_09_HIGH_VISCOCITY_DONE\\2017_11_09_HIGH_VISCOCITY_DONE\\Exp13_stacks\\output\\Exp13_stacks_TP0018_DC_prob.tif\n",
      "C:\\Users\\jalip\\Documentos\\Proyectos\\Sperm\\campo_claro_test\\2017_11_09_HIGH_VISCOCITY_DONE\\2017_11_09_HIGH_VISCOCITY_DONE\\Exp13_stacks\\output\\Exp13_stacks_TP0019_DC_prob.tif\n",
      "C:\\Users\\jalip\\Documentos\\Proyectos\\Sperm\\campo_claro_test\\2017_11_09_HIGH_VISCOCITY_DONE\\2017_11_09_HIGH_VISCOCITY_DONE\\Exp13_stacks\\output\\Exp13_stacks_TP0020_DC_prob.tif\n",
      "C:\\Users\\jalip\\Documentos\\Proyectos\\Sperm\\campo_claro_test\\2017_11_09_HIGH_VISCOCITY_DONE\\2017_11_09_HIGH_VISCOCITY_DONE\\Exp13_stacks\\output\\Exp13_stacks_TP0021_DC_prob.tif\n",
      "C:\\Users\\jalip\\Documentos\\Proyectos\\Sperm\\campo_claro_test\\2017_11_09_HIGH_VISCOCITY_DONE\\2017_11_09_HIGH_VISCOCITY_DONE\\Exp13_stacks\\output\\Exp13_stacks_TP0022_DC_prob.tif\n",
      "C:\\Users\\jalip\\Documentos\\Proyectos\\Sperm\\campo_claro_test\\2017_11_09_HIGH_VISCOCITY_DONE\\2017_11_09_HIGH_VISCOCITY_DONE\\Exp13_stacks\\output\\Exp13_stacks_TP0023_DC_prob.tif\n"
     ]
    }
   ],
   "source": [
    "file_paths = predict_interactive.run()"
   ]
  },
  {
   "cell_type": "markdown",
   "id": "a65367e7",
   "metadata": {},
   "source": [
    "# 04 - Visualization\n",
    "This sections provides an opportunity for the user to inspect and visually analyze the results of the segmentation prediction. This step is important to ensure that the predicted segmentations are appropriate and accurate."
   ]
  },
  {
   "cell_type": "code",
   "execution_count": null,
   "id": "aa66d979",
   "metadata": {},
   "outputs": [],
   "source": [
    "show_images_side_by_side_interactive(file_paths[\"inputs\"], file_paths[\"outputs\"])"
   ]
  },
  {
   "cell_type": "code",
   "execution_count": null,
   "id": "9193a4f8",
   "metadata": {},
   "outputs": [],
   "source": []
  }
 ],
 "metadata": {
  "kernelspec": {
   "display_name": "Python 3 (ipykernel)",
   "language": "python",
   "name": "python3"
  },
  "language_info": {
   "codemirror_mode": {
    "name": "ipython",
    "version": 3
   },
   "file_extension": ".py",
   "mimetype": "text/x-python",
   "name": "python",
   "nbconvert_exporter": "python",
   "pygments_lexer": "ipython3",
   "version": "3.9.13"
  }
 },
 "nbformat": 4,
 "nbformat_minor": 5
}
