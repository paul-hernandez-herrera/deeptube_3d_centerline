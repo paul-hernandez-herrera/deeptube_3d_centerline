{
 "cells": [
  {
   "cell_type": "markdown",
   "id": "28d65c39",
   "metadata": {},
   "source": [
    "# About the notebook\n",
    "This notebook allows to create a training set of pairs of images corresponding to input image and ground truth (3d tubular mask). This code requires **A set of 3D images** and the traced center-line of the tubular structure in the SWC file format."
   ]
  },
  {
   "cell_type": "markdown",
   "id": "699b0b3a",
   "metadata": {},
   "source": [
    "# Loading dependencies\n",
    "Importing the required code and libraries to run this notebook"
   ]
  },
  {
   "cell_type": "code",
   "execution_count": null,
   "id": "0fda001b",
   "metadata": {},
   "outputs": [],
   "source": [
    "import os\n",
    "if 'workbookDir' not in globals():\n",
    "    print('Updating working directory')\n",
    "    workbookDir = os.path.dirname(os.getcwd())\n",
    "    os.chdir(workbookDir)\n",
    "print(os.getcwd())\n",
    "\n",
    "import deeptube_3dcenterline.construct_training_set as core\n",
    "from deeptube_3dcenterline.parameters_interface.parameters_widget import set_parameters_generate_training_set\n",
    "\n",
    "#creating an object of construct training set to set default parameters of class\n",
    "obj = core.construct_training_set()\n",
    "\n",
    "%load_ext autoreload\n",
    "%autoreload 2"
   ]
  },
  {
   "cell_type": "markdown",
   "id": "13f72793",
   "metadata": {},
   "source": [
    "# Setting parameters\n",
    "The following line of code allows you to set the parameters to generate the training set from the images and the trace centerline. A summary of each parameter is the following:\n",
    "\n",
    "## Required parameters\n",
    "**Folder images path**: the folder containing the input images \n",
    "\n",
    "**Folder swc files path**: the folder containing the traces center-line for each input image\n",
    "\n",
    "## Optional parameters\n",
    "**Folder output path**: the folder path to save the generated training set\n",
    "\n",
    "**Patch size**: size of each subvolume generate (patch size x patch size x # slices)\n",
    "\n",
    "**#sub-images per image**: númber of patches to be generate for each image.\n",
    "\n",
    "**Radius tubular mask (GT)**: radius of the tubular structure to be constructed in the binary mask\n",
    "\n",
    "**Draw head**: If true, a circle with **radius 2.5 * Radius tubular mask** is generate at the first point of the centerline. This allow to differentiate the first point of the centerline (usually sperm head) from the other points.\n",
    "\n",
    "**Percentile normalization**: allows to normalize the intensity values of the image stack, first the intensity values corresponding the the low and high percentile (https://numpy.org/doc/stable/reference/generated/numpy.percentile.html) are found. The corresponding intensity values are used to normalize the intensity of the image stack to the interva [0, 1]\n"
   ]
  },
  {
   "cell_type": "code",
   "execution_count": null,
   "id": "4ac6a7e5",
   "metadata": {},
   "outputs": [],
   "source": [
    "parameters = set_parameters_generate_training_set(obj)"
   ]
  },
  {
   "cell_type": "markdown",
   "id": "9a79f862",
   "metadata": {},
   "source": [
    "# Start generating the training set for the deep learning  algorithm\n",
    "Run the following line to generate the training set using the given parameters\n"
   ]
  },
  {
   "cell_type": "code",
   "execution_count": null,
   "id": "d07149ba",
   "metadata": {},
   "outputs": [],
   "source": [
    "obj.set_folder_imgs(parameters['folder_imgs_path_w'].value)\n",
    "obj.set_folder_traces(parameters['folder_swc_path_w'].value)\n",
    "obj.set_patch_size_img(parameters['patch_size_img_w'].value)\n",
    "obj.set_number_patches(parameters['number_patches_w'].value)\n",
    "obj.set_number_patches(parameters['number_patches_w'].value)\n",
    "obj.set_number_patches_random_pos(parameters['number_patches_random_w'].value)\n",
    "obj.set_radius_tubular_mask(parameters['radius_tubular_mask_w'].value)\n",
    "obj.set_draw_head(parameters['draw_head_w'].value)\n",
    "obj.set_normalization_percentile_low(parameters['percentile_w'].value[0])\n",
    "obj.set_normalization_percentile_high(parameters['percentile_w'].value[1])\n",
    "#Just in case, user does not want to use default value for output folder\n",
    "if not(parameters['folder_output_default'] == parameters['folder_output_path_w'].value):\n",
    "    obj.set_folder_output(parameters['folder_output_path_w'].value)\n",
    "obj.run_main()"
   ]
  },
  {
   "cell_type": "code",
   "execution_count": null,
   "id": "aca67b7b",
   "metadata": {},
   "outputs": [],
   "source": []
  }
 ],
 "metadata": {
  "kernelspec": {
   "display_name": "Python 3 (ipykernel)",
   "language": "python",
   "name": "python3"
  },
  "language_info": {
   "codemirror_mode": {
    "name": "ipython",
    "version": 3
   },
   "file_extension": ".py",
   "mimetype": "text/x-python",
   "name": "python",
   "nbconvert_exporter": "python",
   "pygments_lexer": "ipython3",
   "version": "3.9.13"
  }
 },
 "nbformat": 4,
 "nbformat_minor": 5
}
