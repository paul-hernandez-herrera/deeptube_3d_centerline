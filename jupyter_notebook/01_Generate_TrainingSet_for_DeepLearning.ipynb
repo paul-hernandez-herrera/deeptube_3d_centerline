{
 "cells": [
  {
   "cell_type": "markdown",
   "id": "28d65c39",
   "metadata": {},
   "source": [
    "# About the notebook\n",
    "This notebook allows to create a training set of pairs of images corresponding to input image and ground truth (3d tubular mask). This code requires **A set of 3D images** and the traced center-line of the tubular structure in the SWC file format."
   ]
  },
  {
   "cell_type": "markdown",
   "id": "699b0b3a",
   "metadata": {},
   "source": [
    "# Loading dependencies\n",
    "Importing the required code and libraries to run this notebook"
   ]
  },
  {
   "cell_type": "code",
   "execution_count": 1,
   "id": "0fda001b",
   "metadata": {},
   "outputs": [
    {
     "name": "stdout",
     "output_type": "stream",
     "text": [
      "Updating working directory\n",
      "C:\\Users\\jalip\\Documentos\\github\\deeptube_3dcenterline\n"
     ]
    }
   ],
   "source": [
    "import os\n",
    "if 'workbookDir' not in globals():\n",
    "    print('Updating working directory')\n",
    "    workbookDir = os.path.dirname(os.getcwd())\n",
    "    os.chdir(workbookDir)\n",
    "print(os.getcwd())\n",
    "\n",
    "import deeptube_3dcenterline.construct_training_set as core\n",
    "from deeptube_3dcenterline.parameters_widget import set_parameters_generate_training_set\n",
    "\n",
    "#creating an object of construct training set to set default parameters of class\n",
    "obj = core.construct_training_set()\n",
    "\n",
    "%load_ext autoreload\n",
    "%autoreload 2"
   ]
  },
  {
   "cell_type": "markdown",
   "id": "13f72793",
   "metadata": {},
   "source": [
    "# Setting parameters\n",
    "The following line of code allows you to set the parameters to generate the training set from the images and the trace centerline. A summary of each parameter is the following:\n",
    "\n",
    "## Required parameters\n",
    "**Folder images path**: the folder containing the input images \n",
    "\n",
    "**Folder swc files path**: the folder containing the traces center-line for each input image\n",
    "\n",
    "## Optional parameters\n",
    "**Folder output path**: the folder path to save the generated training set\n",
    "\n",
    "**Patch size**: size of each subvolume generate (patch size x patch size x # slices)\n",
    "\n",
    "**#sub-images per image**: númber of patches to be generate for each image.\n",
    "\n",
    "**Radius tubular mask (GT)**: radius of the tubular structure to be constructed in the binary mask\n",
    "\n",
    "**Draw head**: If true, a circle with **radius 2.5 * Radius tubular mask** is generate at the first point of the centerline. This allow to differentiate the first point of the centerline (usually sperm head) from the other points.\n",
    "\n",
    "**Percentile normalization**: allows to normalize the intensity values of the image stack, first the intensity values corresponding the the low and high percentile (https://numpy.org/doc/stable/reference/generated/numpy.percentile.html) are found. The corresponding intensity values are used to normalize the intensity of the image stack to the interva [0, 1]\n"
   ]
  },
  {
   "cell_type": "code",
   "execution_count": 2,
   "id": "4ac6a7e5",
   "metadata": {},
   "outputs": [
    {
     "name": "stdout",
     "output_type": "stream",
     "text": [
      "------------------------------\n",
      "\u001b[47m\u001b[1mREQUIRED PARAMETERS\u001b[0m\n",
      "------------------------------\n"
     ]
    },
    {
     "data": {
      "application/vnd.jupyter.widget-view+json": {
       "model_id": "2eee04fe45094124acb670709fb9bc29",
       "version_major": 2,
       "version_minor": 0
      },
      "text/plain": [
       "HBox(children=(Label(value='Folder images path:', layout=Layout(width='200px')), Text(value='', layout=Layout(…"
      ]
     },
     "metadata": {},
     "output_type": "display_data"
    },
    {
     "data": {
      "application/vnd.jupyter.widget-view+json": {
       "model_id": "3bda00da1a9244df823fdd276539f49a",
       "version_major": 2,
       "version_minor": 0
      },
      "text/plain": [
       "HBox(children=(Label(value='Folder swc files path:', layout=Layout(width='200px')), Text(value='', layout=Layo…"
      ]
     },
     "metadata": {},
     "output_type": "display_data"
    },
    {
     "name": "stdout",
     "output_type": "stream",
     "text": [
      "------------------------------\n",
      "\u001b[47m\u001b[1mOPTIONAL PARAMETERS\u001b[0m\n",
      "------------------------------\n"
     ]
    },
    {
     "data": {
      "application/vnd.jupyter.widget-view+json": {
       "model_id": "2ce3b7954e774128976ec58a46920afe",
       "version_major": 2,
       "version_minor": 0
      },
      "text/plain": [
       "HBox(children=(Label(value='Folder output path:', layout=Layout(width='200px')), Text(value='', layout=Layout(…"
      ]
     },
     "metadata": {},
     "output_type": "display_data"
    },
    {
     "data": {
      "application/vnd.jupyter.widget-view+json": {
       "model_id": "b0e84e7556724265a01ff6ab185fb838",
       "version_major": 2,
       "version_minor": 0
      },
      "text/plain": [
       "HBox(children=(Label(value='Patch size (length x length): ', layout=Layout(width='200px')), IntText(value=128,…"
      ]
     },
     "metadata": {},
     "output_type": "display_data"
    },
    {
     "data": {
      "application/vnd.jupyter.widget-view+json": {
       "model_id": "55e5f32facb048428a88a37db2c079e1",
       "version_major": 2,
       "version_minor": 0
      },
      "text/plain": [
       "HBox(children=(Label(value='# sub-images per image: ', layout=Layout(width='200px')), IntText(value=10, layout…"
      ]
     },
     "metadata": {},
     "output_type": "display_data"
    },
    {
     "data": {
      "application/vnd.jupyter.widget-view+json": {
       "model_id": "1445d90382ae406d81c70babff760b1a",
       "version_major": 2,
       "version_minor": 0
      },
      "text/plain": [
       "HBox(children=(Label(value='Radius tubular mask (GT): ', layout=Layout(width='200px')), IntText(value=4, layou…"
      ]
     },
     "metadata": {},
     "output_type": "display_data"
    },
    {
     "data": {
      "application/vnd.jupyter.widget-view+json": {
       "model_id": "a0428f4e6c084cda8b4fc9b9b1408643",
       "version_major": 2,
       "version_minor": 0
      },
      "text/plain": [
       "Checkbox(value=True, description='Draw head', indent=False)"
      ]
     },
     "metadata": {},
     "output_type": "display_data"
    },
    {
     "data": {
      "application/vnd.jupyter.widget-view+json": {
       "model_id": "8aa2514320ad4b058dcc1650d1287f27",
       "version_major": 2,
       "version_minor": 0
      },
      "text/plain": [
       "IntRangeSlider(value=(1, 99), continuous_update=False, description='Percentile normalization', layout=Layout(f…"
      ]
     },
     "metadata": {},
     "output_type": "display_data"
    }
   ],
   "source": [
    "parameters = set_parameters_generate_training_set(obj)"
   ]
  },
  {
   "cell_type": "markdown",
   "id": "9a79f862",
   "metadata": {},
   "source": [
    "# Start generating the training set for the deep learning  algorithm\n",
    "Run the following line to generate the training set using the given parameters\n"
   ]
  },
  {
   "cell_type": "code",
   "execution_count": 3,
   "id": "d07149ba",
   "metadata": {},
   "outputs": [
    {
     "name": "stdout",
     "output_type": "stream",
     "text": [
      "# images detected: 120\n",
      "\n",
      "Running stack: 1/120\n",
      "Running stack: 2/120\n",
      "Running stack: 3/120\n",
      "Running stack: 4/120\n",
      "Running stack: 5/120\n",
      "Running stack: 6/120\n",
      "Running stack: 7/120\n",
      "Running stack: 8/120\n",
      "Running stack: 9/120\n",
      "Running stack: 10/120\n",
      "Running stack: 11/120\n",
      "Running stack: 12/120\n",
      "Running stack: 13/120\n",
      "Running stack: 14/120\n",
      "Running stack: 15/120\n",
      "Running stack: 16/120\n",
      "Running stack: 17/120\n",
      "Running stack: 18/120\n",
      "Running stack: 19/120\n",
      "Running stack: 20/120\n",
      "Running stack: 21/120\n",
      "Running stack: 22/120\n",
      "Running stack: 23/120\n",
      "Running stack: 24/120\n",
      "Running stack: 25/120\n",
      "Running stack: 26/120\n",
      "Running stack: 27/120\n",
      "Running stack: 28/120\n",
      "Running stack: 29/120\n",
      "Running stack: 30/120\n",
      "Running stack: 31/120\n",
      "Running stack: 32/120\n",
      "Running stack: 33/120\n",
      "Running stack: 34/120\n",
      "Running stack: 35/120\n",
      "Running stack: 36/120\n",
      "Running stack: 37/120\n",
      "Running stack: 38/120\n",
      "Running stack: 39/120\n",
      "Running stack: 40/120\n",
      "Running stack: 41/120\n",
      "Running stack: 42/120\n",
      "Running stack: 43/120\n",
      "Running stack: 44/120\n",
      "Running stack: 45/120\n",
      "Running stack: 46/120\n",
      "Running stack: 47/120\n",
      "Running stack: 48/120\n",
      "Running stack: 49/120\n",
      "Running stack: 50/120\n",
      "Running stack: 51/120\n",
      "Running stack: 52/120\n",
      "Running stack: 53/120\n",
      "Running stack: 54/120\n",
      "Running stack: 55/120\n",
      "Running stack: 56/120\n",
      "Running stack: 57/120\n",
      "Running stack: 58/120\n",
      "Running stack: 59/120\n",
      "Running stack: 60/120\n",
      "Running stack: 61/120\n",
      "Running stack: 62/120\n",
      "Running stack: 63/120\n",
      "Running stack: 64/120\n",
      "Running stack: 65/120\n",
      "Running stack: 66/120\n",
      "Running stack: 67/120\n",
      "Running stack: 68/120\n",
      "Running stack: 69/120\n",
      "Running stack: 70/120\n",
      "Running stack: 71/120\n",
      "Running stack: 72/120\n",
      "Running stack: 73/120\n",
      "Running stack: 74/120\n",
      "Running stack: 75/120\n",
      "Running stack: 76/120\n",
      "Running stack: 77/120\n",
      "Running stack: 78/120\n",
      "Running stack: 79/120\n",
      "Running stack: 80/120\n",
      "Running stack: 81/120\n",
      "Running stack: 82/120\n",
      "Running stack: 83/120\n",
      "Running stack: 84/120\n",
      "Running stack: 85/120\n",
      "Running stack: 86/120\n",
      "Running stack: 87/120\n",
      "Running stack: 88/120\n",
      "Running stack: 89/120\n",
      "Running stack: 90/120\n",
      "Running stack: 91/120\n",
      "Running stack: 92/120\n",
      "Running stack: 93/120\n",
      "Running stack: 94/120\n",
      "Running stack: 95/120\n",
      "Running stack: 96/120\n",
      "Running stack: 97/120\n",
      "Running stack: 98/120\n",
      "Running stack: 99/120\n",
      "Running stack: 100/120\n",
      "Running stack: 101/120\n",
      "Running stack: 102/120\n",
      "Running stack: 103/120\n",
      "Running stack: 104/120\n",
      "Running stack: 105/120\n",
      "Running stack: 106/120\n",
      "Running stack: 107/120\n",
      "Running stack: 108/120\n",
      "Running stack: 109/120\n",
      "Running stack: 110/120\n",
      "Running stack: 111/120\n",
      "Running stack: 112/120\n",
      "Running stack: 113/120\n",
      "Running stack: 114/120\n",
      "Running stack: 115/120\n",
      "Running stack: 116/120\n",
      "Running stack: 117/120\n",
      "Running stack: 118/120\n",
      "Running stack: 119/120\n",
      "Running stack: 120/120\n",
      "------------------------------\n",
      "\u001b[47m\u001b[1mAlgorithm has finished generating training set.\u001b[0m\n",
      "------------------------------\n",
      "\n",
      "Training set saved in path: \n",
      "C:\\Users\\jalip\\Documentos\\github\\deeptube_3dcenterline\\dataset\\training\\training_set\n",
      "\n",
      "\n"
     ]
    }
   ],
   "source": [
    "obj.set_folder_imgs(parameters['folder_imgs_path_w'].value)\n",
    "obj.set_folder_traces(parameters['folder_swc_path_w'].value)\n",
    "obj.set_patch_size_img(parameters['patch_size_img_w'].value)\n",
    "obj.set_number_patches(parameters['number_patches_w'].value)\n",
    "obj.set_radius_tubular_mask(parameters['radius_tubular_mask_w'].value)\n",
    "obj.set_draw_head(parameters['draw_head_w'].value)\n",
    "obj.set_normalization_percentile_low(parameters['percentile_w'].value[0])\n",
    "obj.set_normalization_percentile_high(parameters['percentile_w'].value[1])\n",
    "#Just in case, user does not want to use default value for output folder\n",
    "if not(parameters['folder_output_default'] == parameters['folder_output_path_w'].value):\n",
    "    obj.set_folder_output(parameters['folder_output_path_w'].value)\n",
    "obj.run_main()"
   ]
  },
  {
   "cell_type": "code",
   "execution_count": null,
   "id": "aca67b7b",
   "metadata": {},
   "outputs": [],
   "source": []
  }
 ],
 "metadata": {
  "kernelspec": {
   "display_name": "Python 3 (ipykernel)",
   "language": "python",
   "name": "python3"
  },
  "language_info": {
   "codemirror_mode": {
    "name": "ipython",
    "version": 3
   },
   "file_extension": ".py",
   "mimetype": "text/x-python",
   "name": "python",
   "nbconvert_exporter": "python",
   "pygments_lexer": "ipython3",
   "version": "3.9.13"
  }
 },
 "nbformat": 4,
 "nbformat_minor": 5
}
